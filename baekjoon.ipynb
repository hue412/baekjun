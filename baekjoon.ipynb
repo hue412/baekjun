{
 "cells": [
  {
   "cell_type": "code",
   "execution_count": null,
   "metadata": {},
   "outputs": [],
   "source": [
    "def solution(babbling):\n",
    "    answer = 0\n",
    "    baby=[\"aya\", \"ye\", \"woo\", \"ma\"]\n",
    "    for babb in babbling:\n",
    "        b1=babb\n",
    "        count=0\n",
    "        for bab in baby:\n",
    "            if babb not in [bab*2]:\n",
    "                b1=b1.replace(bab,'')\n",
    "\n",
    "                if count==0:\n",
    "                    if b1=='':\n",
    "                        answer+=1\n",
    "                        count+=1\n",
    "\n",
    "\n",
    "\n",
    "    return answer\n",
    "solution([\"aya\", \"yee\", \"u\", \"maa\", \"wyeoo\"])"
   ]
  },
  {
   "cell_type": "code",
   "execution_count": null,
   "metadata": {},
   "outputs": [],
   "source": [
    "def solution(babbling):\n",
    "    answer = 0\n",
    "    for babb in babbling:\n",
    "        for bab in [\"aya\", \"ye\", \"woo\", \"ma\"]:\n",
    "            if bab * 2 not in babb:\n",
    "                babb=babb.replace(bab,' ')\n",
    "                print(babb)\n",
    "        if len(babb.strip()) == 0:\n",
    "            answer+=1\n",
    "\n",
    "    return answer\n",
    "solution([\"aya\", \"yee\", \"u\", \"maa\", \"wyeoo\",\"yayae\"])"
   ]
  },
  {
   "cell_type": "code",
   "execution_count": null,
   "metadata": {},
   "outputs": [],
   "source": [
    "A =[1,1,2,2,2,8]\n",
    "a,b,c,d,e,f = input().split()\n",
    "print(A[0]-int(a), A[1]-int(b), A[2]-int(c), A[3]-int(d), A[4]-int(e), A[5]-int(f))"
   ]
  },
  {
   "cell_type": "code",
   "execution_count": null,
   "metadata": {},
   "outputs": [],
   "source": [
    "#10430\n",
    "A, B, C = list(map(int,input().split()))\n",
    "print((A+B)%C)\n",
    "print(((A%C)+(B%C))%C)\n",
    "print((A*B)%C)\n",
    "print(((A%C)*(B%C))%C)"
   ]
  },
  {
   "cell_type": "code",
   "execution_count": null,
   "metadata": {},
   "outputs": [],
   "source": [
    "#2588\n",
    "A = int(input())\n",
    "B = list(input())\n",
    "C = \"\".join(B)\n",
    "print(A*int(B[2]))\n",
    "print(A*int(B[1]))\n",
    "print(A*int(B[0]))\n",
    "print(A*int(C))"
   ]
  },
  {
   "cell_type": "code",
   "execution_count": null,
   "metadata": {},
   "outputs": [],
   "source": [
    "#2588\n",
    "A = int(input())\n",
    "B = input()\n",
    "print(A*int(B[2]))\n",
    "print(A*int(B[1]))\n",
    "print(A*int(B[0]))\n",
    "print(A*int(B))"
   ]
  },
  {
   "cell_type": "code",
   "execution_count": null,
   "metadata": {},
   "outputs": [],
   "source": [
    "#11382\n"
   ]
  },
  {
   "cell_type": "code",
   "execution_count": null,
   "metadata": {},
   "outputs": [],
   "source": [
    "print(\"|\\_/|\")\n",
    "print(\"|q p|   /}\")\n",
    "print('( 0 )\"\"\"\\\\')\n",
    "print('|\"^\"`    |')\n",
    "print(\"||_/=\\\\\\__|\")"
   ]
  },
  {
   "cell_type": "code",
   "execution_count": null,
   "metadata": {},
   "outputs": [],
   "source": [
    "print(\"         ,r'\"'\"7')\n",
    "print(\"r`-_   ,'  ,/\")\n",
    "print(' \\. \"'\". L_r'\")\n",
    "print(\"   `~\\/\")\n",
    "print(\"      |\")\n",
    "print(\"      |\")"
   ]
  },
  {
   "cell_type": "code",
   "execution_count": null,
   "metadata": {},
   "outputs": [],
   "source": [
    "A,B= list(map(int,input().split()))\n",
    "if A>B:\n",
    "    print(\">\")\n",
    "elif A<B:\n",
    "    print(\"<\")\n",
    "elif A==B:\n",
    "    print(\"==\")"
   ]
  },
  {
   "cell_type": "code",
   "execution_count": null,
   "metadata": {},
   "outputs": [],
   "source": [
    "A = int(input())\n",
    "if A>89:\n",
    "    print(\"A\")\n",
    "elif A>79:\n",
    "    print(\"B\")\n",
    "elif A>69:\n",
    "    print(\"C\")\n",
    "elif A>59:\n",
    "    print(\"D\")\n",
    "else:\n",
    "    print(\"F\")\n"
   ]
  },
  {
   "cell_type": "code",
   "execution_count": null,
   "metadata": {},
   "outputs": [],
   "source": [
    "A = int(input())\n",
    "if A%4==0:\n",
    "    if A%100!=0:\n",
    "        print(\"1\")\n",
    "    if A%100==0:\n",
    "        if A%400==0:\n",
    "            print(\"1\")\n",
    "        else:\n",
    "            print(\"0\")\n",
    "else:\n",
    "    print(\"0\")\n"
   ]
  },
  {
   "cell_type": "code",
   "execution_count": null,
   "metadata": {},
   "outputs": [],
   "source": [
    "X = int(input())\n",
    "Y = int(input())\n",
    "if X>0:\n",
    "    if Y>0:\n",
    "        print(\"1\")\n",
    "    elif Y<0:\n",
    "        print(\"4\")\n",
    "elif X<0:\n",
    "    if Y>0:\n",
    "        print(\"2\")\n",
    "    elif Y<0:\n",
    "        print(\"3\")"
   ]
  },
  {
   "cell_type": "code",
   "execution_count": null,
   "metadata": {},
   "outputs": [],
   "source": [
    "A,B = list(map(int,input().split()))\n",
    "C=B-45\n",
    "if C>=0:\n",
    "    print(A,C)\n",
    "elif C<0:\n",
    "    D=A-1\n",
    "    if D<0:\n",
    "        print(D+24,C+60)\n",
    "    else: print(D,C+60)"
   ]
  },
  {
   "cell_type": "code",
   "execution_count": null,
   "metadata": {},
   "outputs": [],
   "source": [
    "A,B = list(map(int,input().split()))\n",
    "C = int(input())\n",
    "D=B+C\n",
    "if D<60:\n",
    "    print(A,D)\n",
    "elif D>=60:\n",
    "    E=D%60\n",
    "    if E==0:\n",
    "        D=D//60 #정수만\n",
    "        A=A+D\n",
    "        if A>23:\n",
    "            A=A-24\n",
    "            print(A,E)\n",
    "        else:\n",
    "            print(A,E)\n",
    "    elif E!=0:\n",
    "        D=D//60\n",
    "        A=A+D\n",
    "        if A>23:\n",
    "            A=A-24\n",
    "            print(A,E)\n",
    "        else:\n",
    "            print(A,E)"
   ]
  },
  {
   "cell_type": "code",
   "execution_count": null,
   "metadata": {},
   "outputs": [],
   "source": [
    "#위랑 같은 문제 다른 방식\n",
    "H, M = map(int, input().split())\n",
    "timer = int(input()) \n",
    "\n",
    "H += timer // 60\n",
    "M += timer % 60\n",
    "\n",
    "if M >= 60:\n",
    "    H += 1\n",
    "    M -= 60\n",
    "if H >= 24:\n",
    "    H -= 24\n",
    "\n",
    "print(H,M)"
   ]
  },
  {
   "cell_type": "code",
   "execution_count": null,
   "metadata": {},
   "outputs": [],
   "source": [
    "A,B,C = list(map(int,input().split()))\n",
    "\n",
    "if A==B:\n",
    "    if A==C:\n",
    "        print(10000+A*1000)\n",
    "    if A!=C:\n",
    "        print(1000+A*100)\n",
    "elif A!=B:\n",
    "    if A==C:\n",
    "        print(1000+A*100)\n",
    "    if B==C:\n",
    "        print(1000+B*100)\n",
    "    if A>B:\n",
    "        if B>C:\n",
    "            print(A*100)\n",
    "        if B<C:\n",
    "            if A<C:\n",
    "                print(C*100)\n",
    "            if A>C:\n",
    "                print(A*100)\n",
    "    if A<B:\n",
    "        if B>C:\n",
    "            if A<C:\n",
    "                print(B*100)\n",
    "            if A>C:\n",
    "                print(B*100)\n",
    "        if B<C:\n",
    "            print(C*100)"
   ]
  },
  {
   "cell_type": "code",
   "execution_count": null,
   "metadata": {},
   "outputs": [],
   "source": [
    "#위랑 같은 문제 다른 방식\n",
    "#a,b,c=map(int,input().split())\n",
    "a,b,c = [int(i) for i in input().split()] #list comprehension방식\n",
    "if a==b==c:\n",
    "    print(10000+a*1000)\n",
    "elif a==b or b==c:\n",
    "    print(1000+b*100)\n",
    "elif a==c:\n",
    "    print(1000+a*100)\n",
    "else:\n",
    "    print(max(a,b,c)*100)"
   ]
  },
  {
   "cell_type": "code",
   "execution_count": null,
   "metadata": {},
   "outputs": [],
   "source": [
    "a = int(input())\n",
    "for i in range(1,10):\n",
    "    print(a,'*',i,'=',a*i)"
   ]
  },
  {
   "cell_type": "code",
   "execution_count": null,
   "metadata": {},
   "outputs": [],
   "source": [
    "T = int(input())\n",
    "for t in range(T):\n",
    "    a,b = [int(i) for i in input().split()]\n",
    "    print(a+b)"
   ]
  },
  {
   "cell_type": "code",
   "execution_count": null,
   "metadata": {},
   "outputs": [],
   "source": [
    "a = int(input())\n",
    "b=0\n",
    "while(1):\n",
    "    b+=a\n",
    "    a=a-1\n",
    "    if a==0:\n",
    "        print(b)\n",
    "        break"
   ]
  },
  {
   "cell_type": "code",
   "execution_count": null,
   "metadata": {},
   "outputs": [],
   "source": [
    "a = int(input())\n",
    "sum = 0\n",
    "for i in range(a+1):\n",
    "    sum += i\n",
    "print(sum)"
   ]
  },
  {
   "cell_type": "code",
   "execution_count": null,
   "metadata": {},
   "outputs": [],
   "source": [
    "a = int(input())\n",
    "sum = a\n",
    "for i in range(a):\n",
    "    sum += i\n",
    "print(sum)"
   ]
  },
  {
   "cell_type": "code",
   "execution_count": null,
   "metadata": {},
   "outputs": [],
   "source": [
    "print(sum(range(1, int(input())+1)))"
   ]
  },
  {
   "cell_type": "code",
   "execution_count": null,
   "metadata": {},
   "outputs": [],
   "source": [
    "A = int(input())\n",
    "B = int(input())\n",
    "f = 0\n",
    "for i in range(B):\n",
    "    c,d = [int(e) for e in input().split()]\n",
    "    f += c*d\n",
    "if f == A:\n",
    "    print('Yes')\n",
    "else: print('No')"
   ]
  },
  {
   "cell_type": "code",
   "execution_count": null,
   "metadata": {},
   "outputs": [],
   "source": [
    "# input() vs sys.stdin.readline().strip() *prompt message 여부\n",
    "import sys\n",
    "T = int(sys.stdin.readline())\n",
    "for t in range(T):\n",
    "    a,b = [int(i) for i in sys.stdin.readline().split()]\n",
    "    print(a+b)"
   ]
  },
  {
   "cell_type": "code",
   "execution_count": null,
   "metadata": {},
   "outputs": [],
   "source": [
    "a = int(input())\n",
    "for t in range(1,a+1):\n",
    "    a,b = [int(i) for i in input().split()]\n",
    "    print('Case #%d:'%t,a+b)"
   ]
  },
  {
   "cell_type": "code",
   "execution_count": null,
   "metadata": {},
   "outputs": [],
   "source": [
    "# f-string vs str.format vs % format\n",
    "a = int(input())\n",
    "for t in range(1,a+1):\n",
    "    a,b = [int(i) for i in input().split()]\n",
    "    #print('Case #{0}: {1}'.format(t,a+b))\n",
    "    print(f'Case #{t}: {a+b}')"
   ]
  },
  {
   "cell_type": "code",
   "execution_count": null,
   "metadata": {},
   "outputs": [],
   "source": [
    "a = int(input())\n",
    "for t in range(1,a+1):\n",
    "    a,b = [int(i) for i in input().split()]\n",
    "    print(f'Case #{t}: {a} + {b} = {a+b}')"
   ]
  },
  {
   "cell_type": "code",
   "execution_count": null,
   "metadata": {},
   "outputs": [],
   "source": [
    "a = int(input())\n",
    "for t in range(1,a+1):\n",
    "    print(\"*\"*t)"
   ]
  },
  {
   "cell_type": "code",
   "execution_count": null,
   "metadata": {},
   "outputs": [],
   "source": [
    "# 반복 for문 한줄개행\n",
    "a = int(input())\n",
    "for i in range(1, a+1):\n",
    "    for j in range(1, (i+1)):\n",
    "        print(\"*\",end=\"\")\n",
    "    print()"
   ]
  },
  {
   "cell_type": "code",
   "execution_count": null,
   "metadata": {},
   "outputs": [],
   "source": [
    "[print('*' * i) for i in range(1, int(input())+1)]"
   ]
  },
  {
   "cell_type": "code",
   "execution_count": null,
   "metadata": {},
   "outputs": [],
   "source": [
    "a = int(input())\n",
    "for t in range(1,a+1):\n",
    "    print(\" \"*(a-t)+\"*\"*t)"
   ]
  },
  {
   "cell_type": "code",
   "execution_count": null,
   "metadata": {},
   "outputs": [],
   "source": [
    "a = int(input())\n",
    "for t in range(1,a+1):\n",
    "    b=\"*\"*t\n",
    "    print(b.rjust(a))"
   ]
  },
  {
   "cell_type": "code",
   "execution_count": null,
   "metadata": {},
   "outputs": [],
   "source": [
    "#try-except-else-finally\n",
    "while(1):\n",
    "    try:\n",
    "        a,b = [int(i) for i in input().split()]\n",
    "        print(a+b)\n",
    "    except:\n",
    "        break"
   ]
  },
  {
   "cell_type": "code",
   "execution_count": null,
   "metadata": {},
   "outputs": [],
   "source": [
    "#1110\n",
    "aa = input()\n",
    "a = list(aa)\n",
    "n=0\n",
    "if int(aa)<10:\n",
    "    a.append(a[0])\n",
    "    a[0]='0'\n",
    "c = a[0]+a[1]\n",
    "b=[]\n",
    "b=a+b\n",
    "k=b[0]+b[1]\n",
    "while(1):\n",
    "    n+=1\n",
    "    f=int(b[0])+int(b[1])\n",
    "    d=str(f%10)\n",
    "    b[0]=b[1]\n",
    "    b[1]=d\n",
    "    k=b[0]+b[1]\n",
    "    if c==k:\n",
    "        print(n)\n",
    "        break\n",
    "    else: continue\n"
   ]
  },
  {
   "cell_type": "code",
   "execution_count": null,
   "metadata": {},
   "outputs": [],
   "source": [
    "#위 같은 문제 다른 방식\n",
    "n = int(input())         # 68\n",
    "num = n\n",
    "cnt = 0                  # 사이클 수\n",
    "\n",
    "while(1):\n",
    "    cnt+= 1              # while 1이랑 동일\n",
    "    a = num // 10       # 6\n",
    "    b = num % 10         # 8\n",
    "    c = (a + b) % 10     # 6 + 8 = 1\"4\"\n",
    "    num = (b * 10) + c   # 80 + 4 = 84\n",
    "        # 사이클 수 + 1\n",
    "    if(num == n):        # num에서 입력된 n과 똑같은 숫자(68)가 나오면 멈춤\n",
    "        break\n",
    "\n",
    "print(cnt)"
   ]
  },
  {
   "cell_type": "code",
   "execution_count": null,
   "metadata": {},
   "outputs": [],
   "source": [
    "#10807\n",
    "n = input()\n",
    "a = [int(n) for n in input().split()]\n",
    "v = int(input())\n",
    "c = 0\n",
    "for i in a:\n",
    "    if i == v:\n",
    "        c+=1\n",
    "print(c)\n",
    "#print(a.count(v)) count : python 리스트 내장 메소드 매개변수로 입력된 값이 리스트 안에 몇개 있는지 세어 반환\n"
   ]
  },
  {
   "cell_type": "code",
   "execution_count": null,
   "metadata": {},
   "outputs": [],
   "source": [
    "#10871\n",
    "n,x = input().split()\n",
    "a = [int(n) for (n) in input().split()]\n",
    "for i in a:\n",
    "    if i < int(x):\n",
    "        print(i,end=\" \")\n"
   ]
  },
  {
   "cell_type": "code",
   "execution_count": null,
   "metadata": {},
   "outputs": [],
   "source": [
    "#10818\n",
    "n = input()\n",
    "a = [int(n) for (n) in input().split()]\n",
    "print(min(a),max(a))"
   ]
  },
  {
   "cell_type": "code",
   "execution_count": null,
   "metadata": {},
   "outputs": [],
   "source": [
    "#2562\n",
    "n =[]\n",
    "for a in range(9):\n",
    "    n.append(int(input()))\n",
    "    if n[a]==max(n):\n",
    "        i = max(n)\n",
    "        j = a+1\n",
    "print(i)\n",
    "print(j)"
   ]
  },
  {
   "cell_type": "code",
   "execution_count": null,
   "metadata": {},
   "outputs": [],
   "source": [
    "#위 같은 문제 다른 방식\n",
    "numbers = [int(input()) for _ in range(9)]\n",
    "\n",
    "print(max(numbers))\n",
    "print(numbers.index(max(numbers)) + 1)"
   ]
  },
  {
   "cell_type": "code",
   "execution_count": null,
   "metadata": {},
   "outputs": [],
   "source": [
    "#5597\n",
    "n = [int(input()) for i in range(28)]\n",
    "a = sorted(n)\n",
    "print(n,a)\n",
    "for i in range(28):\n",
    "    v=a[0]\n",
    "    c=a[1]\n",
    "    if n[i]==v:\n",
    "        print(n.index(n[i])+1)\n",
    "    if n[i]==c:\n",
    "        print(n.index(n[i])+1)"
   ]
  },
  {
   "cell_type": "code",
   "execution_count": null,
   "metadata": {},
   "outputs": [],
   "source": [
    "#위 같은 문제 다른 방식\n",
    "s = [i for i in range(1,31)]\n",
    "n = [int(input()) for i in range(28)]\n",
    "sn = set(s)-set(n)\n",
    "sn = sorted(sn)\n",
    "print(*sn,sep=\"\\n\")"
   ]
  },
  {
   "cell_type": "code",
   "execution_count": null,
   "metadata": {},
   "outputs": [],
   "source": [
    "#위 같은 문제 다른 방식\n",
    "s = [i for i in range(1,31)]\n",
    "for _ in range(28):\n",
    "    s.remove(int(input()))\n",
    "print(*s,sep=\"\\n\")"
   ]
  },
  {
   "cell_type": "code",
   "execution_count": null,
   "metadata": {},
   "outputs": [],
   "source": [
    "#3052\n",
    "s=[(int(input()))%42 for i in range(10)]\n",
    "print(len(set(s))) #set은 중복 제거\n"
   ]
  },
  {
   "cell_type": "code",
   "execution_count": null,
   "metadata": {},
   "outputs": [],
   "source": [
    "#1546\n",
    "c = 0\n",
    "n = int(input())\n",
    "s = [int(i) for i in input().split()]\n",
    "ns = [(j/max(s))*100 for j in s]\n",
    "avg = sum(ns)/n #sum은 리스트 합치기\n",
    "print(avg)\n",
    "# for k in ns:\n",
    "#     c+=k\n",
    "#     cc=c/n\n",
    "# print(cc)"
   ]
  },
  {
   "cell_type": "code",
   "execution_count": null,
   "metadata": {},
   "outputs": [],
   "source": [
    "#8958\n",
    "n = int(input())\n",
    "for i in range(n):\n",
    "    c=0\n",
    "    p=0\n",
    "    s=input()\n",
    "    for k in s:\n",
    "        if k == 'O':\n",
    "            p+=1\n",
    "            c+=p\n",
    "        if k == 'X':\n",
    "            p=0\n",
    "            c+=p\n",
    "    print(c)\n",
    "\n"
   ]
  },
  {
   "cell_type": "code",
   "execution_count": null,
   "metadata": {},
   "outputs": [],
   "source": [
    "#4344\n",
    "n = int(input())\n",
    "for i in range(n):\n",
    "    c = 0\n",
    "    s = [int(j) for j in input().split()]\n",
    "    avg=sum(s[1:])/s[0]\n",
    "    for k in s[1:]:\n",
    "        if avg < k:\n",
    "            c+=1\n",
    "        else: pass\n",
    "    print(f\"{(c/(len(s[1:]))*100):.3f}%\")"
   ]
  },
  {
   "cell_type": "code",
   "execution_count": null,
   "metadata": {},
   "outputs": [],
   "source": [
    "#15596\n",
    "def solve(a: list):\n",
    "    return sum(a)\n",
    "b=[int(i) for i in input().split()]\n",
    "solve(b)"
   ]
  },
  {
   "cell_type": "code",
   "execution_count": null,
   "metadata": {},
   "outputs": [],
   "source": [
    "#백준 런타임에러 해결\n",
    "import sys\n",
    "def solve(a):\n",
    "    ans = 0\n",
    "    for j in a:\n",
    "        ans+=j\n",
    "    return ans\n",
    "b = [int(i) for i in sys.stdin.readline().split()]\n",
    "solve(b)"
   ]
  },
  {
   "cell_type": "code",
   "execution_count": null,
   "metadata": {},
   "outputs": [],
   "source": [
    "#15596 가장쉬운방법\n",
    "def solve(a):\n",
    "    return sum(a)"
   ]
  },
  {
   "cell_type": "code",
   "execution_count": null,
   "metadata": {},
   "outputs": [],
   "source": [
    "#4673\n",
    "def d():\n",
    "    c=0\n",
    "    s=[int(i) for i in range(1,10001)]\n",
    "    ss=[]\n",
    "    for j in s:\n",
    "        if j<10:\n",
    "            c=j+j\n",
    "            ss.append(c)\n",
    "        if j<100:\n",
    "            c=j+(j//10)+(j%10)\n",
    "            ss.append(c)\n",
    "        if j<1000:\n",
    "            c=j+(j//100)+(j//10%10)+(j%10)\n",
    "            ss.append(c)\n",
    "        if j<10000:\n",
    "            c=j+(j//1000)+(j//100%10)+(j%100//10)+(j%10)\n",
    "            ss.append(c)\n",
    "    s=sorted(set(s)-set(ss))\n",
    "    for _ in s:\n",
    "        print(_)\n",
    "d()"
   ]
  },
  {
   "cell_type": "code",
   "execution_count": null,
   "metadata": {},
   "outputs": [],
   "source": [
    "#위 같은 문제 다른방식\n",
    "def d():\n",
    "    c=0\n",
    "    s=[int(i) for i in range(1,10001)]\n",
    "    ss=[]\n",
    "    for j in s:\n",
    "        for k in str(j):\n",
    "            j+=int(k)\n",
    "        if j<=10000:\n",
    "            ss.append(j)\n",
    "    s=sorted(set(s)-set(ss))\n",
    "    for _ in s:\n",
    "        print(_)\n",
    "d()"
   ]
  },
  {
   "cell_type": "code",
   "execution_count": null,
   "metadata": {},
   "outputs": [],
   "source": [
    "#1065\n",
    "def o():\n",
    "    c=0\n",
    "    n = int(input())\n",
    "    for j in range(1,n+1):\n",
    "        if j <= 99:\n",
    "            c+=1\n",
    "        if j<1000:\n",
    "            nn=[]\n",
    "            for k in str(j):\n",
    "                nn.append(int(k))\n",
    "            for p1,p2,p3 in zip(nn,nn[1:],nn[2:]): #<-zip리스트내부요소비교\n",
    "                if p2-p1==p3-p2:\n",
    "                    c+=1\n",
    "    print(c)\n",
    "o() \n"
   ]
  },
  {
   "cell_type": "code",
   "execution_count": null,
   "metadata": {},
   "outputs": [],
   "source": [
    "#위같은문제다른방식\n",
    "def o():\n",
    "    c=0\n",
    "    n = int(input())\n",
    "    for j in range(1,n+1):\n",
    "        if j <= 99:\n",
    "            c+=1\n",
    "        else :\n",
    "            nn = [int(k) for k in str(j)]\n",
    "            if nn[0]-nn[1] == nn[1]-nn[2]:\n",
    "                c+=1\n",
    "    print(c)\n",
    "o()"
   ]
  },
  {
   "cell_type": "code",
   "execution_count": null,
   "metadata": {},
   "outputs": [],
   "source": [
    "#11654(문제기준)\n",
    "n = input()\n",
    "print(ord(n))"
   ]
  },
  {
   "cell_type": "code",
   "execution_count": null,
   "metadata": {},
   "outputs": [],
   "source": [
    "#11654(모든경우에대응)\n",
    "n = input()\n",
    "if n.isdigit()==True:\n",
    "    n=int(n)\n",
    "    if n<10:\n",
    "        n=str(n)\n",
    "        print(ord(n))\n",
    "    else:\n",
    "        print(chr(int(n)))\n",
    "else:\n",
    "    print(ord(n))"
   ]
  },
  {
   "cell_type": "code",
   "execution_count": null,
   "metadata": {},
   "outputs": [],
   "source": [
    "#11720\n",
    "n = int(input())\n",
    "s = [int(i) for i in input()]\n",
    "c=0\n",
    "for j in range(n):\n",
    "    c+=s[j]\n",
    "print(c)\n",
    "#print(sum(int(i) for i in input())) <한줄처리"
   ]
  },
  {
   "cell_type": "code",
   "execution_count": null,
   "metadata": {},
   "outputs": [],
   "source": [
    "#10809\n",
    "N = [chr(i) for i in range(97, 123)]\n",
    "S = [i for i in input()]\n",
    "for i in range(len(N)):\n",
    "    for j in range(len(S)):\n",
    "        if S[j] == N[i]:\n",
    "            N[i]=j\n",
    "            break\n",
    "        if j == len(S)-1:\n",
    "            N[i]=-1\n",
    "for _ in N:\n",
    "    print(_,end=\" \")"
   ]
  },
  {
   "cell_type": "code",
   "execution_count": null,
   "metadata": {},
   "outputs": [],
   "source": [
    "#위 같은 문제 다른 방식\n",
    "N = input()\n",
    "A = [i for i in range(97,123)]\n",
    "\n",
    "for x in A:\n",
    "    print(N.find(chr(x)),end=\" \")#find함수"
   ]
  },
  {
   "cell_type": "code",
   "execution_count": null,
   "metadata": {},
   "outputs": [],
   "source": [
    "#위 다른 방식2\n",
    "N = [_ for _ in input()]\n",
    "A = [chr(_) for _ in range(97,123)]\n",
    "\n",
    "for i in A:\n",
    "    if i in N:\n",
    "        print(N.index(i), end=\" \")\n",
    "    else:\n",
    "        print(-1, end=\" \")"
   ]
  },
  {
   "cell_type": "code",
   "execution_count": null,
   "metadata": {},
   "outputs": [],
   "source": [
    "#2675\n",
    "T = int(input())\n",
    "for i in range(T):\n",
    "    p=\"\"\n",
    "    n,s = [i for i in input().split()]\n",
    "    for i in s:\n",
    "        p+=i*int(n)\n",
    "    print(p)"
   ]
  },
  {
   "cell_type": "code",
   "execution_count": null,
   "metadata": {},
   "outputs": [],
   "source": [
    "#1157(실패)\n",
    "import sys\n",
    "n = input()\n",
    "n=n.upper()\n",
    "c=0\n",
    "s=n\n",
    "for i,j in zip(n,n[1:]):\n",
    "    if i==j:\n",
    "        s=i\n",
    "    else:\n",
    "        if n.count(i) > n.count(j):\n",
    "            if s==\"?\":\n",
    "                if c>n.count(i) or c>n.count(j):\n",
    "                    pass\n",
    "            else: s=i\n",
    "        elif n.count(i)==n.count(j):\n",
    "            s=\"?\"\n",
    "            c=n.count(i)\n",
    "        else:\n",
    "            if s==\"?\":\n",
    "                if c>n.count(i) or c>n.count(j):\n",
    "                    pass\n",
    "            else: s=j\n",
    "print(s)"
   ]
  },
  {
   "cell_type": "code",
   "execution_count": null,
   "metadata": {},
   "outputs": [],
   "source": [
    "#1557(성공) 참조:https://www.geeksforgeeks.org/counting-the-frequencies-in-a-list-using-dictionary-in-python/\n",
    "n = input().upper()\n",
    "c={}\n",
    "cc=0\n",
    "e=''\n",
    "for i in n:\n",
    "    if i in c:\n",
    "        c[i]+=1\n",
    "    else:\n",
    "        c[i]=1\n",
    "for j in c:\n",
    "    if cc<c[j]:\n",
    "        cc=c[j]\n",
    "        e=j\n",
    "    elif cc==c[j]:\n",
    "        e='?'\n",
    "    elif cc>c[j]:\n",
    "        pass\n",
    "print(e)"
   ]
  },
  {
   "cell_type": "code",
   "execution_count": 9,
   "metadata": {},
   "outputs": [
    {
     "name": "stdout",
     "output_type": "stream",
     "text": [
      "6\n"
     ]
    }
   ],
   "source": [
    "#1152\n",
    "n = input().split()\n",
    "c=0\n",
    "for i in n:\n",
    "        c+=1\n",
    "print(c)"
   ]
  },
  {
   "cell_type": "code",
   "execution_count": 24,
   "metadata": {},
   "outputs": [
    {
     "name": "stdout",
     "output_type": "stream",
     "text": [
      "938\n"
     ]
    }
   ],
   "source": [
    "#2908 참조:https://itholic.github.io/python-reverse-reversed/\n",
    "#참조:https://blockdmask.tistory.com/468\n",
    "A,B = [i for i in input().split()]\n",
    "A = int(''.join(list(reversed(A))))#join요소연결\n",
    "B = int(''.join(list(reversed(B))))\n",
    "if A>B:\n",
    "    print(A)\n",
    "else:\n",
    "    print(B)"
   ]
  },
  {
   "cell_type": "code",
   "execution_count": null,
   "metadata": {},
   "outputs": [],
   "source": [
    "#2908 [::-1]슬라이스 참조:https://blog.wonkyunglee.io/3\n",
    "num1, num2 = input().split()\n",
    "num1 = int(num1[::-1])  # [::-1] : 역순\n",
    "num2 = int(num2[::-1])\n",
    "\n",
    "print(num1) if num1 > num2 else print(num2)"
   ]
  },
  {
   "cell_type": "code",
   "execution_count": 25,
   "metadata": {},
   "outputs": [],
   "source": [
    "#5622\n"
   ]
  }
 ],
 "metadata": {
  "kernelspec": {
   "display_name": "Python 3.9.13 ('base')",
   "language": "python",
   "name": "python3"
  },
  "language_info": {
   "codemirror_mode": {
    "name": "ipython",
    "version": 3
   },
   "file_extension": ".py",
   "mimetype": "text/x-python",
   "name": "python",
   "nbconvert_exporter": "python",
   "pygments_lexer": "ipython3",
   "version": "3.9.13"
  },
  "orig_nbformat": 4,
  "vscode": {
   "interpreter": {
    "hash": "b93dd30991240d33675079253467c4d7a2bd516f059e1e6489e3d4fc25d73270"
   }
  }
 },
 "nbformat": 4,
 "nbformat_minor": 2
}
